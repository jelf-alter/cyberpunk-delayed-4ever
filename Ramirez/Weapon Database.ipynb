{
 "cells": [
  {
   "cell_type": "code",
   "execution_count": 6,
   "metadata": {},
   "outputs": [
    {
     "name": "stdout",
     "output_type": "stream",
     "text": [
      "platform 1.0.8 imported.\n",
      "Version      : 3.8.5\n",
      "Version tuple: ('3', '8', '5')\n",
      "Compiler     : MSC v.1916 64 bit (AMD64)\n",
      "Build        : ('default', 'Sep  3 2020 21:29:08')\n",
      "os imported.\n",
      "Path imported.\n",
      "pandas 1.1.5 imported.\n",
      "openpyxl 3.0.5 imported.\n"
     ]
    }
   ],
   "source": [
    "#Module Name and Version\n",
    "def module_version(mod):\n",
    "    try:\n",
    "        return print(mod.__name__ +' '+ mod.__version__ + ' imported.')\n",
    "    except AttributeError:\n",
    "        return print(mod.__name__ + ' imported.')\n",
    "\n",
    "#Import modules\n",
    "import platform\n",
    "module_version(platform)\n",
    "print('Version      :', platform.python_version())\n",
    "print('Version tuple:', platform.python_version_tuple())\n",
    "print('Compiler     :', platform.python_compiler())\n",
    "print('Build        :', platform.python_build())\n",
    "import os\n",
    "module_version(os)\n",
    "from pathlib import Path\n",
    "module_version(Path)\n",
    "import pandas as pd\n",
    "module_version(pd)\n",
    "import openpyxl\n",
    "module_version(openpyxl)\n",
    "\n",
    "my_repo = Path(os.getcwd())\n",
    "data_repo = os.path.join(my_repo.parent, \"Data\")\n",
    "# print(data_repo)"
   ]
  },
  {
   "cell_type": "code",
   "execution_count": 16,
   "metadata": {},
   "outputs": [
    {
     "name": "stdout",
     "output_type": "stream",
     "text": [
      "C:\\Users\\carli\\OneDrive\\Desktop\\Python\\Cyperpunk\\Data\\weapons_inventory.xlsx\n"
     ]
    },
    {
     "data": {
      "text/html": [
       "<div>\n",
       "<style scoped>\n",
       "    .dataframe tbody tr th:only-of-type {\n",
       "        vertical-align: middle;\n",
       "    }\n",
       "\n",
       "    .dataframe tbody tr th {\n",
       "        vertical-align: top;\n",
       "    }\n",
       "\n",
       "    .dataframe thead th {\n",
       "        text-align: right;\n",
       "    }\n",
       "</style>\n",
       "<table border=\"1\" class=\"dataframe\">\n",
       "  <thead>\n",
       "    <tr style=\"text-align: right;\">\n",
       "      <th></th>\n",
       "      <th>source</th>\n",
       "      <th>https://cyberpunk.fandom.com/wiki/Cyberpunk_2020_Weapons</th>\n",
       "    </tr>\n",
       "  </thead>\n",
       "  <tbody>\n",
       "  </tbody>\n",
       "</table>\n",
       "</div>"
      ],
      "text/plain": [
       "Empty DataFrame\n",
       "Columns: [source, https://cyberpunk.fandom.com/wiki/Cyberpunk_2020_Weapons]\n",
       "Index: []"
      ]
     },
     "execution_count": 16,
     "metadata": {},
     "output_type": "execute_result"
    }
   ],
   "source": [
    "wb_file_name = 'weapons_inventory.xlsx'\n",
    "wb_location = os.path.join(data_repo, wb_file_name)\n",
    "\n",
    "print(wb_location)\n",
    "\n",
    "wb = pd.ExcelFile(wb_location, engine = 'openpyxl')\n",
    "\n",
    "pd.read_excel(wb, sheet_name=0)\n"
   ]
  }
 ],
 "metadata": {
  "kernelspec": {
   "display_name": "Python 3",
   "language": "python",
   "name": "python3"
  },
  "language_info": {
   "codemirror_mode": {
    "name": "ipython",
    "version": 3
   },
   "file_extension": ".py",
   "mimetype": "text/x-python",
   "name": "python",
   "nbconvert_exporter": "python",
   "pygments_lexer": "ipython3",
   "version": "3.8.5"
  }
 },
 "nbformat": 4,
 "nbformat_minor": 4
}
